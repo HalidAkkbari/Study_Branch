{
  "metadata": {
    "language_info": {
      "codemirror_mode": {
        "name": "python",
        "version": 3
      },
      "file_extension": ".py",
      "mimetype": "text/x-python",
      "name": "python",
      "nbconvert_exporter": "python",
      "pygments_lexer": "ipython3",
      "version": "3.8"
    },
    "kernelspec": {
      "name": "python",
      "display_name": "Python (Pyodide)",
      "language": "python"
    }
  },
  "nbformat_minor": 4,
  "nbformat": 4,
  "cells": [
    {
      "cell_type": "markdown",
      "source": "Створити обʼктну модель організації.\nВ огранізації повинно бути 3 типи робітників Employee: Developer, Designer & Manager.\nУ кожного Employee повинні бути поля:\n\n    Імʼя\n    Призвіще\n    базова заробітна плата\n    досвід (у роках)\n\nУ Designer додатково повинен бути коефіцієнт ефективності - число від 0 до 1.\nУ Manager повинна бути команда (список) що складається з довільної кількості Developer та Designer.\n\n\nСтворити обʼєкт Department, що містить список Manager (які в свою чергу містять команди).\nDepartment повинен мати метод giveSalary() який повинен надрукувати зарплату ВСІХ Employee цієї організації в форматі \"іʼмя призвіще отримав <число> шекєлей\".\n\nЗарплата countedSalary для кожного Employee обраховується з поля base salary (базова заробітна плата) плюс якщо його досвід роботи більше 2 років, він отримує baseSalary + 200, але якщо його досвід більше 5 років - він отримує baseSalary * 1.2 + 500.\n- Додатково, на зп Designer впливає коефіцієнт ефективності countedSalary * effCoeff.\n- Додатково, зп Manager розраховується з countedSalary плюс:\n\n    якщо в його команді більше 5 людей - countedSalary + 200, але якщо в його команді більше 10 людей то countedSalary + 300.\n    Додатково, якщо в його команді більше половини Developer - його зп збільшується ще на 10%.\n\nЗдача: посилання на .ipynb файл у вашому відкритому репозиторії з рішенням завдання.",
      "metadata": {}
    },
    {
      "cell_type": "code",
      "source": "class Employee:\n    \n    def __init__(self, name, surname, baseSalary, exp):\n        self.name = name\n        self.surname = surname\n        self.baseSalary = baseSalary\n        self.exp = exp\n        \n    def countedSalary(self):\n        if self.exp<=2:\n            return self.baseSalary\n        elif self.exp>2 and self.exp<=5:\n            return self.baseSalary+200\n        else:\n            return self.baseSalary*1.2+500\n        \nclass Developer(Employee):\n    \n    def resultingSalary(self):\n        return self.countedSalary()\n    \n        \nclass Designer(Employee):\n    \n    def __init__(self, *args, effCoeff, **kwargs):\n        super().__init__(*args, **kwargs)\n        self.effCoeff = effCoeff\n        \n    def resultingSalary(self):\n        return self.countedSalary()*self.effCoeff\n        \nclass Manager(Employee):\n    \n    def __init__(self, *args, team, **kwargs):\n        super().__init__(*args, **kwargs)\n        self.team = team   \n        \n    def resultingSalary(self):\n        resSalary = self.countedSalary()\n        if len(self.team)>5 and len(self.team)<=10:\n            resSalary+=200\n        elif len(self.team)>10:\n            resSalary+=300\n        numOfDevs = sum(isinstance(dev, Developer) for dev in self.team)\n        if (numOfDevs*2>len(self.team)):\n            resSalary=resSalary+resSalary*0.1\n        return resSalary\n\nclass Department():\n    \n    def __init__(self, managers):\n        self.managers = managers     \n        \n    def giveSalary(self):\n        for manager in self.managers:\n            print(\"{} {} was paid {} dollars\".format(manager.name, manager.surname, manager.resultingSalary()))\n            for employee in manager.team:\n                print(\"{} was {} paid {} dollars\".format(employee.name, employee.surname, employee.resultingSalary()))\n    \n\n\ndeveloper1 = Developer(\"John\", \"Snow\", 100, 3)\ndeveloper2 = Developer(\"Arya\", \"Stark\", 200, 1)\ndeveloper3 = Developer(\"Iron\", \"Man\", 200, 6)\ndesigner1 = Designer(\"Ilon\", \"Mask\", 100, 6, effCoeff=0.6)\n\nmanager1  = Manager(\"Freddy\", \"Krugger\", 100, 1, team=([developer1, developer2, developer3, designer1]))\n\ndep = Department([manager1])\n\ndep.giveSalary()\n\n\n        ",
      "metadata": {
        "trusted": true
      },
      "execution_count": 7,
      "outputs": [
        {
          "name": "stdout",
          "text": "Freddy Krugger was paid 110.0 dollars\nJohn was Snow paid 300 dollars\nArya was Stark paid 200 dollars\nIron was Man paid 740.0 dollars\nIlon was Mask paid 372.0 dollars\n",
          "output_type": "stream"
        }
      ]
    },
    {
      "cell_type": "code",
      "source": "",
      "metadata": {},
      "execution_count": null,
      "outputs": []
    }
  ]
}