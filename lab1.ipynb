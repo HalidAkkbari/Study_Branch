{
 "cells": [
  {
   "cell_type": "code",
   "execution_count": 7,
   "id": "79950d19",
   "metadata": {},
   "outputs": [
    {
     "name": "stdout",
     "output_type": "stream",
     "text": [
      " \n"
     ]
    }
   ],
   "source": [
    "#1\n",
    "def check(n):\n",
    "    if isinstance(n,int):\n",
    "            return 'Парне' if n%2==0 else 'Не парне'\n",
    "    else:\n",
    "        return \" \"\n"
   ]
  },
  {
   "cell_type": "code",
   "execution_count": 10,
   "id": "2616c8a1",
   "metadata": {},
   "outputs": [
    {
     "name": "stdout",
     "output_type": "stream",
     "text": [
      "18\n"
     ]
    }
   ],
   "source": [
    "#2\n",
    "def sum_prime():\n",
    "    prime_numbers = []\n",
    "    num = 1\n",
    "    while len(prime_numbers) < 5:\n",
    "        is_prime = all(num % i != 0 for i in range(2, int(num ** 0.5) + 1))\n",
    "        if is_prime:\n",
    "            prime_numbers.append(num)\n",
    "        num += 1\n",
    "    return sum(prime_numbers)\n"
   ]
  },
  {
   "cell_type": "code",
   "execution_count": 15,
   "id": "67c1c1f4",
   "metadata": {},
   "outputs": [
    {
     "name": "stdout",
     "output_type": "stream",
     "text": [
      "1234\n"
     ]
    }
   ],
   "source": [
    "#3\n",
    "def sum_of_series(n):\n",
    "    current_number = 0\n",
    "    total_sum = 0\n",
    "    for i in range(n):\n",
    "        current_number = current_number * 10 + 1\n",
    "        total_sum += current_number\n",
    "    return total_sum\n",
    "\n",
    "print(sum_of_series(5))"
   ]
  },
  {
   "cell_type": "code",
   "execution_count": null,
   "id": "d407c853",
   "metadata": {},
   "outputs": [],
   "source": []
  }
 ],
 "metadata": {
  "kernelspec": {
   "display_name": "Python 3 (ipykernel)",
   "language": "python",
   "name": "python3"
  },
  "language_info": {
   "codemirror_mode": {
    "name": "ipython",
    "version": 3
   },
   "file_extension": ".py",
   "mimetype": "text/x-python",
   "name": "python",
   "nbconvert_exporter": "python",
   "pygments_lexer": "ipython3",
   "version": "3.9.13"
  }
 },
 "nbformat": 4,
 "nbformat_minor": 5
}
